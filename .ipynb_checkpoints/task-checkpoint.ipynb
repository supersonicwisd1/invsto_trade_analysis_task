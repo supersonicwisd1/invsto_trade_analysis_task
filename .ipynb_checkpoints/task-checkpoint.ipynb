{
 "cells": [
  {
   "cell_type": "code",
   "execution_count": 3,
   "id": "1dfbbe71",
   "metadata": {},
   "outputs": [
    {
     "name": "stdout",
     "output_type": "stream",
     "text": [
      "An error occurred: connection to server at \"5432\" (0.0.21.56), port 5432 failed: Network is unreachable\n",
      "\tIs the server running on that host and accepting TCP/IP connections?\n",
      "\n"
     ]
    }
   ],
   "source": [
    "import psycopg2\n",
    "\n",
    "def create_table():\n",
    "    try:\n",
    "        # Connect to your postgres DB\n",
    "        conn = psycopg2.connect(\"dbname='user' user='user' host='5432' password='lekan2904.'\")\n",
    "\n",
    "        # Open a cursor to perform database operations\n",
    "        cur = conn.cursor()\n",
    "\n",
    "        # Execute a query\n",
    "        cur.execute(\"\"\"\n",
    "            CREATE TABLE IF NOT EXISTS stock_data (\n",
    "                datetime TIMESTAMP,\n",
    "                open DECIMAL,\n",
    "                high DECIMAL,\n",
    "                low DECIMAL,\n",
    "                close DECIMAL,\n",
    "                volume INT,\n",
    "                instrument VARCHAR(255)\n",
    "            );\n",
    "        \"\"\")\n",
    "\n",
    "        # Commit changes\n",
    "        conn.commit()\n",
    "\n",
    "        # Close the cursor and connection\n",
    "        cur.close()\n",
    "        conn.close()\n",
    "\n",
    "    except Exception as e:\n",
    "        print(f\"An error occurred: {e}\")\n",
    "\n",
    "create_table()\n"
   ]
  },
  {
   "cell_type": "code",
   "execution_count": 4,
   "id": "625ef83d",
   "metadata": {},
   "outputs": [
    {
     "name": "stdout",
     "output_type": "stream",
     "text": [
      "An error occurred: could not translate host name \"your_host\" to address: nodename nor servname provided, or not known\n",
      "\n"
     ]
    }
   ],
   "source": [
    "def insert_data(data):\n",
    "    try:\n",
    "        conn = psycopg2.connect(\"dbname='your_dbname' user='your_username' host='your_host' password='your_password'\")\n",
    "        cur = conn.cursor()\n",
    "\n",
    "        for record in data:\n",
    "            cur.execute(\"INSERT INTO stock_data (datetime, open, high, low, close, volume, instrument) VALUES (%s, %s, %s, %s, %s, %s, %s)\", record)\n",
    "\n",
    "        conn.commit()\n",
    "        cur.close()\n",
    "        conn.close()\n",
    "\n",
    "    except Exception as e:\n",
    "        print(f\"An error occurred: {e}\")\n",
    "\n",
    "# Example data\n",
    "data = [\n",
    "    # ('datetime', 'open', 'high', 'low', 'close', 'volume', 'instrument')\n",
    "    # Add your data here\n",
    "]\n",
    "\n",
    "insert_data(data)\n"
   ]
  },
  {
   "cell_type": "code",
   "execution_count": null,
   "id": "94d7b948",
   "metadata": {},
   "outputs": [],
   "source": [
    "import pandas as pd\n",
    "import numpy as np\n",
    "\n",
    "def moving_average_crossover_strategy(df):\n",
    "    # Calculate moving averages\n",
    "    short_window = 40\n",
    "    long_window = 100\n",
    "\n",
    "    df['short_mavg'] = df['close'].rolling(window=short_window, min_periods=1).mean()\n",
    "    df['long_mavg'] = df['close'].rolling(window=long_window, min_periods=1).mean()\n",
    "\n",
    "    # Create signals\n",
    "    df['signal'] = 0\n",
    "    df['signal'][short_window:] = np.where(df['short_mavg'][short_window:] > df['long_mavg'][short_window:], 1, 0)\n",
    "    df['positions'] = df['signal'].diff()\n",
    "\n",
    "    return df\n",
    "\n",
    "# Example data for testing (replace this with your actual DataFrame from the database)\n",
    "data = {\n",
    "    'datetime': pd.date_range(start='2020-01-01', periods=120, freq='D'),\n",
    "    'open': np.random.rand(120) * 100,\n",
    "    'high': np.random.rand(120) * 100,\n",
    "    'low': np.random.rand(120) * 100,\n",
    "    'close': np.random.rand(120) * 100,\n",
    "    'volume': np.random.randint(100, 1000, size=120),\n",
    "    'instrument': ['AAPL'] * 120\n",
    "}\n",
    "df = pd.DataFrame(data)\n",
    "\n",
    "# Apply the strategy\n",
    "result_df = moving_average_crossover_strategy(df)\n",
    "\n",
    "# Display the first few rows of the result\n",
    "print(result_df.head())\n"
   ]
  },
  {
   "cell_type": "code",
   "execution_count": null,
   "id": "126ad072",
   "metadata": {},
   "outputs": [],
   "source": [
    "import unittest\n",
    "import datetime\n",
    "\n",
    "class TestStockData(unittest.TestCase):\n",
    "    def test_data_types(self):\n",
    "        # Mock data to represent what you'd get from the database\n",
    "        data = [\n",
    "            (datetime.datetime.now(), 100.0, 105.0, 95.0, 102.0, 1000, 'AAPL')\n",
    "        ]\n",
    "\n",
    "        for record in data:\n",
    "            self.assertIsInstance(record[0], datetime.datetime)\n",
    "            self.assertIsInstance(record[1], float)\n",
    "            self.assertIsInstance(record[2], float)\n",
    "            self.assertIsInstance(record[3], float)\n",
    "            self.assertIsInstance(record[4], float)\n",
    "            self.assertIsInstance(record[5], int)\n",
    "            self.assertIsInstance(record[6], str)\n",
    "\n",
    "if __name__ == '__main__':\n",
    "    unittest.main()\n"
   ]
  }
 ],
 "metadata": {
  "kernelspec": {
   "display_name": "Python 3 (ipykernel)",
   "language": "python",
   "name": "python3"
  },
  "language_info": {
   "codemirror_mode": {
    "name": "ipython",
    "version": 3
   },
   "file_extension": ".py",
   "mimetype": "text/x-python",
   "name": "python",
   "nbconvert_exporter": "python",
   "pygments_lexer": "ipython3",
   "version": "3.11.5"
  }
 },
 "nbformat": 4,
 "nbformat_minor": 5
}
